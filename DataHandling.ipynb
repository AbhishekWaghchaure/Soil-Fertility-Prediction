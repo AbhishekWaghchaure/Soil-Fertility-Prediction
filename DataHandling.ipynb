{
 "cells": [
  {
   "cell_type": "code",
   "execution_count": 36,
   "metadata": {
    "collapsed": true,
    "ExecuteTime": {
     "start_time": "2023-05-06T19:29:31.590552Z",
     "end_time": "2023-05-06T19:29:31.626194Z"
    }
   },
   "outputs": [],
   "source": [
    "import pandas as pd\n",
    "import numpy as np"
   ]
  },
  {
   "cell_type": "code",
   "execution_count": 37,
   "outputs": [],
   "source": [
    "df = pd.read_csv('Datasets/Combination.csv')"
   ],
   "metadata": {
    "collapsed": false,
    "ExecuteTime": {
     "start_time": "2023-05-06T19:29:31.600818Z",
     "end_time": "2023-05-06T19:29:31.655669Z"
    }
   }
  },
  {
   "cell_type": "code",
   "execution_count": 38,
   "outputs": [
    {
     "data": {
      "text/plain": "     N     P    K    pH    EC    OC    Zn   Fe    Cu   Mn  Output\n0   75  20.0  279  7.74  0.40  0.01  0.48  6.4  0.21  4.7       1\n1   85  15.7  247  9.02  0.31  0.02  0.27  6.4  0.16  5.6       1\n2   77  35.6  265  7.80  0.17  0.02  0.46  6.2  0.51  6.1       1\n3  106   6.4  127  8.36  0.02  0.03  0.50  3.1  0.28  2.3       0\n4   96  10.5   96  8.36  1.08  0.03  0.31  3.2  0.23  4.1       0",
      "text/html": "<div>\n<style scoped>\n    .dataframe tbody tr th:only-of-type {\n        vertical-align: middle;\n    }\n\n    .dataframe tbody tr th {\n        vertical-align: top;\n    }\n\n    .dataframe thead th {\n        text-align: right;\n    }\n</style>\n<table border=\"1\" class=\"dataframe\">\n  <thead>\n    <tr style=\"text-align: right;\">\n      <th></th>\n      <th>N</th>\n      <th>P</th>\n      <th>K</th>\n      <th>pH</th>\n      <th>EC</th>\n      <th>OC</th>\n      <th>Zn</th>\n      <th>Fe</th>\n      <th>Cu</th>\n      <th>Mn</th>\n      <th>Output</th>\n    </tr>\n  </thead>\n  <tbody>\n    <tr>\n      <th>0</th>\n      <td>75</td>\n      <td>20.0</td>\n      <td>279</td>\n      <td>7.74</td>\n      <td>0.40</td>\n      <td>0.01</td>\n      <td>0.48</td>\n      <td>6.4</td>\n      <td>0.21</td>\n      <td>4.7</td>\n      <td>1</td>\n    </tr>\n    <tr>\n      <th>1</th>\n      <td>85</td>\n      <td>15.7</td>\n      <td>247</td>\n      <td>9.02</td>\n      <td>0.31</td>\n      <td>0.02</td>\n      <td>0.27</td>\n      <td>6.4</td>\n      <td>0.16</td>\n      <td>5.6</td>\n      <td>1</td>\n    </tr>\n    <tr>\n      <th>2</th>\n      <td>77</td>\n      <td>35.6</td>\n      <td>265</td>\n      <td>7.80</td>\n      <td>0.17</td>\n      <td>0.02</td>\n      <td>0.46</td>\n      <td>6.2</td>\n      <td>0.51</td>\n      <td>6.1</td>\n      <td>1</td>\n    </tr>\n    <tr>\n      <th>3</th>\n      <td>106</td>\n      <td>6.4</td>\n      <td>127</td>\n      <td>8.36</td>\n      <td>0.02</td>\n      <td>0.03</td>\n      <td>0.50</td>\n      <td>3.1</td>\n      <td>0.28</td>\n      <td>2.3</td>\n      <td>0</td>\n    </tr>\n    <tr>\n      <th>4</th>\n      <td>96</td>\n      <td>10.5</td>\n      <td>96</td>\n      <td>8.36</td>\n      <td>1.08</td>\n      <td>0.03</td>\n      <td>0.31</td>\n      <td>3.2</td>\n      <td>0.23</td>\n      <td>4.1</td>\n      <td>0</td>\n    </tr>\n  </tbody>\n</table>\n</div>"
     },
     "execution_count": 38,
     "metadata": {},
     "output_type": "execute_result"
    }
   ],
   "source": [
    "df.head()"
   ],
   "metadata": {
    "collapsed": false,
    "ExecuteTime": {
     "start_time": "2023-05-06T19:29:31.611085Z",
     "end_time": "2023-05-06T19:29:31.656728Z"
    }
   }
  },
  {
   "cell_type": "code",
   "execution_count": 39,
   "outputs": [
    {
     "name": "stdout",
     "output_type": "stream",
     "text": [
      "<class 'pandas.core.frame.DataFrame'>\n",
      "RangeIndex: 980 entries, 0 to 979\n",
      "Data columns (total 11 columns):\n",
      " #   Column  Non-Null Count  Dtype  \n",
      "---  ------  --------------  -----  \n",
      " 0   N       980 non-null    int64  \n",
      " 1   P       980 non-null    float64\n",
      " 2   K       980 non-null    int64  \n",
      " 3   pH      980 non-null    float64\n",
      " 4   EC      980 non-null    float64\n",
      " 5   OC      980 non-null    float64\n",
      " 6   Zn      980 non-null    float64\n",
      " 7   Fe      980 non-null    float64\n",
      " 8   Cu      980 non-null    float64\n",
      " 9   Mn      980 non-null    float64\n",
      " 10  Output  980 non-null    int64  \n",
      "dtypes: float64(8), int64(3)\n",
      "memory usage: 84.3 KB\n"
     ]
    }
   ],
   "source": [
    "df.info()"
   ],
   "metadata": {
    "collapsed": false,
    "ExecuteTime": {
     "start_time": "2023-05-06T19:29:31.628319Z",
     "end_time": "2023-05-06T19:29:31.656966Z"
    }
   }
  },
  {
   "cell_type": "code",
   "execution_count": 40,
   "outputs": [
    {
     "data": {
      "text/plain": "(980, 11)"
     },
     "execution_count": 40,
     "metadata": {},
     "output_type": "execute_result"
    }
   ],
   "source": [
    "df.shape"
   ],
   "metadata": {
    "collapsed": false,
    "ExecuteTime": {
     "start_time": "2023-05-06T19:29:31.640776Z",
     "end_time": "2023-05-06T19:29:31.657227Z"
    }
   }
  },
  {
   "cell_type": "markdown",
   "source": [
    "Renaming Output to fertility"
   ],
   "metadata": {
    "collapsed": false
   }
  },
  {
   "cell_type": "code",
   "execution_count": 41,
   "outputs": [],
   "source": [
    "df = df.rename(columns={'Output': 'Fertility'})"
   ],
   "metadata": {
    "collapsed": false,
    "ExecuteTime": {
     "start_time": "2023-05-06T19:29:31.646243Z",
     "end_time": "2023-05-06T19:29:31.657411Z"
    }
   }
  },
  {
   "cell_type": "code",
   "execution_count": 42,
   "outputs": [
    {
     "data": {
      "text/plain": "     N     P    K    pH    EC    OC    Zn   Fe    Cu   Mn  Fertility\n0   75  20.0  279  7.74  0.40  0.01  0.48  6.4  0.21  4.7          1\n1   85  15.7  247  9.02  0.31  0.02  0.27  6.4  0.16  5.6          1\n2   77  35.6  265  7.80  0.17  0.02  0.46  6.2  0.51  6.1          1\n3  106   6.4  127  8.36  0.02  0.03  0.50  3.1  0.28  2.3          0\n4   96  10.5   96  8.36  1.08  0.03  0.31  3.2  0.23  4.1          0",
      "text/html": "<div>\n<style scoped>\n    .dataframe tbody tr th:only-of-type {\n        vertical-align: middle;\n    }\n\n    .dataframe tbody tr th {\n        vertical-align: top;\n    }\n\n    .dataframe thead th {\n        text-align: right;\n    }\n</style>\n<table border=\"1\" class=\"dataframe\">\n  <thead>\n    <tr style=\"text-align: right;\">\n      <th></th>\n      <th>N</th>\n      <th>P</th>\n      <th>K</th>\n      <th>pH</th>\n      <th>EC</th>\n      <th>OC</th>\n      <th>Zn</th>\n      <th>Fe</th>\n      <th>Cu</th>\n      <th>Mn</th>\n      <th>Fertility</th>\n    </tr>\n  </thead>\n  <tbody>\n    <tr>\n      <th>0</th>\n      <td>75</td>\n      <td>20.0</td>\n      <td>279</td>\n      <td>7.74</td>\n      <td>0.40</td>\n      <td>0.01</td>\n      <td>0.48</td>\n      <td>6.4</td>\n      <td>0.21</td>\n      <td>4.7</td>\n      <td>1</td>\n    </tr>\n    <tr>\n      <th>1</th>\n      <td>85</td>\n      <td>15.7</td>\n      <td>247</td>\n      <td>9.02</td>\n      <td>0.31</td>\n      <td>0.02</td>\n      <td>0.27</td>\n      <td>6.4</td>\n      <td>0.16</td>\n      <td>5.6</td>\n      <td>1</td>\n    </tr>\n    <tr>\n      <th>2</th>\n      <td>77</td>\n      <td>35.6</td>\n      <td>265</td>\n      <td>7.80</td>\n      <td>0.17</td>\n      <td>0.02</td>\n      <td>0.46</td>\n      <td>6.2</td>\n      <td>0.51</td>\n      <td>6.1</td>\n      <td>1</td>\n    </tr>\n    <tr>\n      <th>3</th>\n      <td>106</td>\n      <td>6.4</td>\n      <td>127</td>\n      <td>8.36</td>\n      <td>0.02</td>\n      <td>0.03</td>\n      <td>0.50</td>\n      <td>3.1</td>\n      <td>0.28</td>\n      <td>2.3</td>\n      <td>0</td>\n    </tr>\n    <tr>\n      <th>4</th>\n      <td>96</td>\n      <td>10.5</td>\n      <td>96</td>\n      <td>8.36</td>\n      <td>1.08</td>\n      <td>0.03</td>\n      <td>0.31</td>\n      <td>3.2</td>\n      <td>0.23</td>\n      <td>4.1</td>\n      <td>0</td>\n    </tr>\n  </tbody>\n</table>\n</div>"
     },
     "execution_count": 42,
     "metadata": {},
     "output_type": "execute_result"
    }
   ],
   "source": [
    "df.head()"
   ],
   "metadata": {
    "collapsed": false,
    "ExecuteTime": {
     "start_time": "2023-05-06T19:29:31.658285Z",
     "end_time": "2023-05-06T19:29:31.663011Z"
    }
   }
  },
  {
   "cell_type": "markdown",
   "source": [
    "Checking the shape of fertile and non fertile data points"
   ],
   "metadata": {
    "collapsed": false
   }
  },
  {
   "cell_type": "code",
   "execution_count": 43,
   "outputs": [
    {
     "data": {
      "text/plain": "(529, 11)"
     },
     "execution_count": 43,
     "metadata": {},
     "output_type": "execute_result"
    }
   ],
   "source": [
    "df[df['Fertility'] == 1].shape"
   ],
   "metadata": {
    "collapsed": false,
    "ExecuteTime": {
     "start_time": "2023-05-06T19:29:31.664624Z",
     "end_time": "2023-05-06T19:29:31.668606Z"
    }
   }
  },
  {
   "cell_type": "code",
   "execution_count": 44,
   "outputs": [
    {
     "data": {
      "text/plain": "(451, 11)"
     },
     "execution_count": 44,
     "metadata": {},
     "output_type": "execute_result"
    }
   ],
   "source": [
    "df[df['Fertility'] == 0].shape"
   ],
   "metadata": {
    "collapsed": false,
    "ExecuteTime": {
     "start_time": "2023-05-06T19:29:31.670461Z",
     "end_time": "2023-05-06T19:29:31.673172Z"
    }
   }
  },
  {
   "cell_type": "markdown",
   "source": [
    "Dividing them accordingly"
   ],
   "metadata": {
    "collapsed": false
   }
  },
  {
   "cell_type": "code",
   "execution_count": 45,
   "outputs": [],
   "source": [
    "fertile = df[df['Fertility'] == 1]\n",
    "nonfertile = df[df['Fertility'] == 0]"
   ],
   "metadata": {
    "collapsed": false,
    "ExecuteTime": {
     "start_time": "2023-05-06T19:29:31.674803Z",
     "end_time": "2023-05-06T19:29:31.706624Z"
    }
   }
  },
  {
   "cell_type": "code",
   "execution_count": 46,
   "outputs": [
    {
     "data": {
      "text/plain": "     N     P    K    pH    EC    OC    Zn   Fe    Cu   Mn  Fertility\n0   75  20.0  279  7.74  0.40  0.01  0.48  6.4  0.21  4.7          1\n1   85  15.7  247  9.02  0.31  0.02  0.27  6.4  0.16  5.6          1\n2   77  35.6  265  7.80  0.17  0.02  0.46  6.2  0.51  6.1          1\n8  112  27.0  333  7.87  0.43  0.04  0.75  3.9  0.54  1.8          1\n9   89  28.2  146  8.09  0.62  0.04  0.53  3.8  0.71  3.9          1",
      "text/html": "<div>\n<style scoped>\n    .dataframe tbody tr th:only-of-type {\n        vertical-align: middle;\n    }\n\n    .dataframe tbody tr th {\n        vertical-align: top;\n    }\n\n    .dataframe thead th {\n        text-align: right;\n    }\n</style>\n<table border=\"1\" class=\"dataframe\">\n  <thead>\n    <tr style=\"text-align: right;\">\n      <th></th>\n      <th>N</th>\n      <th>P</th>\n      <th>K</th>\n      <th>pH</th>\n      <th>EC</th>\n      <th>OC</th>\n      <th>Zn</th>\n      <th>Fe</th>\n      <th>Cu</th>\n      <th>Mn</th>\n      <th>Fertility</th>\n    </tr>\n  </thead>\n  <tbody>\n    <tr>\n      <th>0</th>\n      <td>75</td>\n      <td>20.0</td>\n      <td>279</td>\n      <td>7.74</td>\n      <td>0.40</td>\n      <td>0.01</td>\n      <td>0.48</td>\n      <td>6.4</td>\n      <td>0.21</td>\n      <td>4.7</td>\n      <td>1</td>\n    </tr>\n    <tr>\n      <th>1</th>\n      <td>85</td>\n      <td>15.7</td>\n      <td>247</td>\n      <td>9.02</td>\n      <td>0.31</td>\n      <td>0.02</td>\n      <td>0.27</td>\n      <td>6.4</td>\n      <td>0.16</td>\n      <td>5.6</td>\n      <td>1</td>\n    </tr>\n    <tr>\n      <th>2</th>\n      <td>77</td>\n      <td>35.6</td>\n      <td>265</td>\n      <td>7.80</td>\n      <td>0.17</td>\n      <td>0.02</td>\n      <td>0.46</td>\n      <td>6.2</td>\n      <td>0.51</td>\n      <td>6.1</td>\n      <td>1</td>\n    </tr>\n    <tr>\n      <th>8</th>\n      <td>112</td>\n      <td>27.0</td>\n      <td>333</td>\n      <td>7.87</td>\n      <td>0.43</td>\n      <td>0.04</td>\n      <td>0.75</td>\n      <td>3.9</td>\n      <td>0.54</td>\n      <td>1.8</td>\n      <td>1</td>\n    </tr>\n    <tr>\n      <th>9</th>\n      <td>89</td>\n      <td>28.2</td>\n      <td>146</td>\n      <td>8.09</td>\n      <td>0.62</td>\n      <td>0.04</td>\n      <td>0.53</td>\n      <td>3.8</td>\n      <td>0.71</td>\n      <td>3.9</td>\n      <td>1</td>\n    </tr>\n  </tbody>\n</table>\n</div>"
     },
     "execution_count": 46,
     "metadata": {},
     "output_type": "execute_result"
    }
   ],
   "source": [
    "fertile.head()"
   ],
   "metadata": {
    "collapsed": false,
    "ExecuteTime": {
     "start_time": "2023-05-06T19:29:31.683255Z",
     "end_time": "2023-05-06T19:29:31.747171Z"
    }
   }
  },
  {
   "cell_type": "code",
   "execution_count": 47,
   "outputs": [
    {
     "data": {
      "text/plain": "     N     P    K    pH    EC    OC    Zn   Fe    Cu   Mn  Fertility\n3  106   6.4  127  8.36  0.02  0.03  0.50  3.1  0.28  2.3          0\n4   96  10.5   96  8.36  1.08  0.03  0.31  3.2  0.23  4.1          0\n5  151  10.5  230  8.36  0.73  0.03  0.38  2.5  0.37  4.2          0\n6  112   8.0  120  7.69  0.11  0.04  0.51  3.1  0.32  1.2          0\n7  125  18.5  145  8.39  0.06  0.04  0.67  2.8  0.18  1.8          0",
      "text/html": "<div>\n<style scoped>\n    .dataframe tbody tr th:only-of-type {\n        vertical-align: middle;\n    }\n\n    .dataframe tbody tr th {\n        vertical-align: top;\n    }\n\n    .dataframe thead th {\n        text-align: right;\n    }\n</style>\n<table border=\"1\" class=\"dataframe\">\n  <thead>\n    <tr style=\"text-align: right;\">\n      <th></th>\n      <th>N</th>\n      <th>P</th>\n      <th>K</th>\n      <th>pH</th>\n      <th>EC</th>\n      <th>OC</th>\n      <th>Zn</th>\n      <th>Fe</th>\n      <th>Cu</th>\n      <th>Mn</th>\n      <th>Fertility</th>\n    </tr>\n  </thead>\n  <tbody>\n    <tr>\n      <th>3</th>\n      <td>106</td>\n      <td>6.4</td>\n      <td>127</td>\n      <td>8.36</td>\n      <td>0.02</td>\n      <td>0.03</td>\n      <td>0.50</td>\n      <td>3.1</td>\n      <td>0.28</td>\n      <td>2.3</td>\n      <td>0</td>\n    </tr>\n    <tr>\n      <th>4</th>\n      <td>96</td>\n      <td>10.5</td>\n      <td>96</td>\n      <td>8.36</td>\n      <td>1.08</td>\n      <td>0.03</td>\n      <td>0.31</td>\n      <td>3.2</td>\n      <td>0.23</td>\n      <td>4.1</td>\n      <td>0</td>\n    </tr>\n    <tr>\n      <th>5</th>\n      <td>151</td>\n      <td>10.5</td>\n      <td>230</td>\n      <td>8.36</td>\n      <td>0.73</td>\n      <td>0.03</td>\n      <td>0.38</td>\n      <td>2.5</td>\n      <td>0.37</td>\n      <td>4.2</td>\n      <td>0</td>\n    </tr>\n    <tr>\n      <th>6</th>\n      <td>112</td>\n      <td>8.0</td>\n      <td>120</td>\n      <td>7.69</td>\n      <td>0.11</td>\n      <td>0.04</td>\n      <td>0.51</td>\n      <td>3.1</td>\n      <td>0.32</td>\n      <td>1.2</td>\n      <td>0</td>\n    </tr>\n    <tr>\n      <th>7</th>\n      <td>125</td>\n      <td>18.5</td>\n      <td>145</td>\n      <td>8.39</td>\n      <td>0.06</td>\n      <td>0.04</td>\n      <td>0.67</td>\n      <td>2.8</td>\n      <td>0.18</td>\n      <td>1.8</td>\n      <td>0</td>\n    </tr>\n  </tbody>\n</table>\n</div>"
     },
     "execution_count": 47,
     "metadata": {},
     "output_type": "execute_result"
    }
   ],
   "source": [
    "nonfertile.head()"
   ],
   "metadata": {
    "collapsed": false,
    "ExecuteTime": {
     "start_time": "2023-05-06T19:29:31.694387Z",
     "end_time": "2023-05-06T19:29:31.775116Z"
    }
   }
  },
  {
   "cell_type": "markdown",
   "source": [
    "Randomly sampling 500 rows from the subset of fertile as we have 529 right now"
   ],
   "metadata": {
    "collapsed": false
   }
  },
  {
   "cell_type": "code",
   "execution_count": 48,
   "outputs": [],
   "source": [
    "fertile_sampled = fertile.sample(n=500, random_state=42)"
   ],
   "metadata": {
    "collapsed": false,
    "ExecuteTime": {
     "start_time": "2023-05-06T19:29:31.700278Z",
     "end_time": "2023-05-06T19:29:31.775367Z"
    }
   }
  },
  {
   "cell_type": "code",
   "execution_count": 49,
   "outputs": [
    {
     "data": {
      "text/plain": "(500, 11)"
     },
     "execution_count": 49,
     "metadata": {},
     "output_type": "execute_result"
    }
   ],
   "source": [
    "fertile_sampled.shape"
   ],
   "metadata": {
    "collapsed": false,
    "ExecuteTime": {
     "start_time": "2023-05-06T19:29:31.707946Z",
     "end_time": "2023-05-06T19:29:31.775514Z"
    }
   }
  },
  {
   "cell_type": "markdown",
   "source": [
    "Randomly sampling 400 rows from the subset of nonfertile as we have 451 right now"
   ],
   "metadata": {
    "collapsed": false
   }
  },
  {
   "cell_type": "code",
   "execution_count": 50,
   "outputs": [],
   "source": [
    "nonfertile_sampled = nonfertile.sample(n=300, random_state=43)"
   ],
   "metadata": {
    "collapsed": false,
    "ExecuteTime": {
     "start_time": "2023-05-06T19:29:31.712048Z",
     "end_time": "2023-05-06T19:29:31.779886Z"
    }
   }
  },
  {
   "cell_type": "code",
   "execution_count": 51,
   "outputs": [
    {
     "data": {
      "text/plain": "(300, 11)"
     },
     "execution_count": 51,
     "metadata": {},
     "output_type": "execute_result"
    }
   ],
   "source": [
    "nonfertile_sampled.shape"
   ],
   "metadata": {
    "collapsed": false,
    "ExecuteTime": {
     "start_time": "2023-05-06T19:29:31.715882Z",
     "end_time": "2023-05-06T19:29:31.785165Z"
    }
   }
  },
  {
   "cell_type": "markdown",
   "source": [
    "Making a new Dataset with 500 fertile and 300 nonfertile data points"
   ],
   "metadata": {
    "collapsed": false
   }
  },
  {
   "cell_type": "code",
   "execution_count": 53,
   "outputs": [],
   "source": [
    "df_main = pd.concat([fertile_sampled, nonfertile_sampled])"
   ],
   "metadata": {
    "collapsed": false,
    "ExecuteTime": {
     "start_time": "2023-05-06T19:30:26.199168Z",
     "end_time": "2023-05-06T19:30:26.202208Z"
    }
   }
  },
  {
   "cell_type": "code",
   "execution_count": 54,
   "outputs": [
    {
     "data": {
      "text/plain": "       N     P    K    pH    EC    OC    Zn    Fe    Cu     Mn  Fertility\n400  370   9.4  729  7.30  0.59  0.10  0.51  8.05  0.53  11.25          1\n828  339   6.8  570  7.50  0.79  0.59  0.13  1.45  0.33   2.72          1\n12    78   8.4  190  8.12  0.14  0.04  0.62  1.00  0.07   5.50          1\n754  264   9.9  454  7.40  0.33  0.73  0.42  0.81  0.23   4.00          1\n721  207  76.8  560  7.42  0.42  0.78  0.48  4.15  1.02  13.25          1",
      "text/html": "<div>\n<style scoped>\n    .dataframe tbody tr th:only-of-type {\n        vertical-align: middle;\n    }\n\n    .dataframe tbody tr th {\n        vertical-align: top;\n    }\n\n    .dataframe thead th {\n        text-align: right;\n    }\n</style>\n<table border=\"1\" class=\"dataframe\">\n  <thead>\n    <tr style=\"text-align: right;\">\n      <th></th>\n      <th>N</th>\n      <th>P</th>\n      <th>K</th>\n      <th>pH</th>\n      <th>EC</th>\n      <th>OC</th>\n      <th>Zn</th>\n      <th>Fe</th>\n      <th>Cu</th>\n      <th>Mn</th>\n      <th>Fertility</th>\n    </tr>\n  </thead>\n  <tbody>\n    <tr>\n      <th>400</th>\n      <td>370</td>\n      <td>9.4</td>\n      <td>729</td>\n      <td>7.30</td>\n      <td>0.59</td>\n      <td>0.10</td>\n      <td>0.51</td>\n      <td>8.05</td>\n      <td>0.53</td>\n      <td>11.25</td>\n      <td>1</td>\n    </tr>\n    <tr>\n      <th>828</th>\n      <td>339</td>\n      <td>6.8</td>\n      <td>570</td>\n      <td>7.50</td>\n      <td>0.79</td>\n      <td>0.59</td>\n      <td>0.13</td>\n      <td>1.45</td>\n      <td>0.33</td>\n      <td>2.72</td>\n      <td>1</td>\n    </tr>\n    <tr>\n      <th>12</th>\n      <td>78</td>\n      <td>8.4</td>\n      <td>190</td>\n      <td>8.12</td>\n      <td>0.14</td>\n      <td>0.04</td>\n      <td>0.62</td>\n      <td>1.00</td>\n      <td>0.07</td>\n      <td>5.50</td>\n      <td>1</td>\n    </tr>\n    <tr>\n      <th>754</th>\n      <td>264</td>\n      <td>9.9</td>\n      <td>454</td>\n      <td>7.40</td>\n      <td>0.33</td>\n      <td>0.73</td>\n      <td>0.42</td>\n      <td>0.81</td>\n      <td>0.23</td>\n      <td>4.00</td>\n      <td>1</td>\n    </tr>\n    <tr>\n      <th>721</th>\n      <td>207</td>\n      <td>76.8</td>\n      <td>560</td>\n      <td>7.42</td>\n      <td>0.42</td>\n      <td>0.78</td>\n      <td>0.48</td>\n      <td>4.15</td>\n      <td>1.02</td>\n      <td>13.25</td>\n      <td>1</td>\n    </tr>\n  </tbody>\n</table>\n</div>"
     },
     "execution_count": 54,
     "metadata": {},
     "output_type": "execute_result"
    }
   ],
   "source": [
    "df_main.head()"
   ],
   "metadata": {
    "collapsed": false,
    "ExecuteTime": {
     "start_time": "2023-05-06T19:30:37.676219Z",
     "end_time": "2023-05-06T19:30:37.686502Z"
    }
   }
  },
  {
   "cell_type": "code",
   "execution_count": 56,
   "outputs": [
    {
     "data": {
      "text/plain": "(800, 11)"
     },
     "execution_count": 56,
     "metadata": {},
     "output_type": "execute_result"
    }
   ],
   "source": [
    "df_main.shape"
   ],
   "metadata": {
    "collapsed": false,
    "ExecuteTime": {
     "start_time": "2023-05-06T19:30:54.054498Z",
     "end_time": "2023-05-06T19:30:54.060796Z"
    }
   }
  },
  {
   "cell_type": "markdown",
   "source": [
    "Randomizing the fertile and non fertile data points"
   ],
   "metadata": {
    "collapsed": false
   }
  },
  {
   "cell_type": "code",
   "execution_count": 58,
   "outputs": [],
   "source": [
    "df_main = df_main.sample(frac=1, random_state=42)"
   ],
   "metadata": {
    "collapsed": false,
    "ExecuteTime": {
     "start_time": "2023-05-06T19:33:21.739662Z",
     "end_time": "2023-05-06T19:33:21.756645Z"
    }
   }
  },
  {
   "cell_type": "markdown",
   "source": [
    "Saving the new dataset which we will use further for our project"
   ],
   "metadata": {
    "collapsed": false
   }
  },
  {
   "cell_type": "code",
   "execution_count": 59,
   "outputs": [],
   "source": [
    "df_main.to_csv('main_data.csv',index=False)"
   ],
   "metadata": {
    "collapsed": false,
    "ExecuteTime": {
     "start_time": "2023-05-06T19:36:46.948547Z",
     "end_time": "2023-05-06T19:36:46.967848Z"
    }
   }
  }
 ],
 "metadata": {
  "kernelspec": {
   "display_name": "Python 3",
   "language": "python",
   "name": "python3"
  },
  "language_info": {
   "codemirror_mode": {
    "name": "ipython",
    "version": 2
   },
   "file_extension": ".py",
   "mimetype": "text/x-python",
   "name": "python",
   "nbconvert_exporter": "python",
   "pygments_lexer": "ipython2",
   "version": "2.7.6"
  }
 },
 "nbformat": 4,
 "nbformat_minor": 0
}
